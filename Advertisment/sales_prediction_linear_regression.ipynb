{
  "nbformat": 4,
  "nbformat_minor": 0,
  "metadata": {
    "colab": {
      "provenance": []
    },
    "kernelspec": {
      "name": "python3",
      "display_name": "Python 3"
    },
    "language_info": {
      "name": "python"
    }
  },
  "cells": [
    {
      "cell_type": "code",
      "metadata": {
        "id": "ImS3ycFlh1pq"
      },
      "source": [
        "import os\n",
        "import numpy as np\n",
        "import seaborn as sns\n",
        "import matplotlib.pyplot as plt\n"
      ],
      "execution_count": null,
      "outputs": []
    },
    {
      "cell_type": "code",
      "source": [],
      "metadata": {
        "id": "-vGTtlBj7zLA"
      },
      "execution_count": null,
      "outputs": []
    },
    {
      "cell_type": "code",
      "metadata": {
        "id": "1Wa2a4eKjf6F"
      },
      "source": [
        "#import library"
      ],
      "execution_count": null,
      "outputs": []
    },
    {
      "cell_type": "code",
      "metadata": {
        "id": "DifU19Kbh4b9"
      },
      "source": [
        "import pandas as pd \n",
        "df= pd.read_csv(\"/content/drive/MyDrive/Copy of Advertising.csv\",index_col=0,header=0)"
      ],
      "execution_count": null,
      "outputs": []
    },
    {
      "cell_type": "code",
      "metadata": {
        "colab": {
          "base_uri": "https://localhost:8080/",
          "height": 235
        },
        "id": "m50wrTZ_h-Pl",
        "outputId": "b99c1d6f-8fd3-4f1b-de41-35519977ae5d"
      },
      "source": [
        "df.head(6)"
      ],
      "execution_count": null,
      "outputs": [
        {
          "output_type": "execute_result",
          "data": {
            "text/html": [
              "<div>\n",
              "<style scoped>\n",
              "    .dataframe tbody tr th:only-of-type {\n",
              "        vertical-align: middle;\n",
              "    }\n",
              "\n",
              "    .dataframe tbody tr th {\n",
              "        vertical-align: top;\n",
              "    }\n",
              "\n",
              "    .dataframe thead th {\n",
              "        text-align: right;\n",
              "    }\n",
              "</style>\n",
              "<table border=\"1\" class=\"dataframe\">\n",
              "  <thead>\n",
              "    <tr style=\"text-align: right;\">\n",
              "      <th></th>\n",
              "      <th>TV</th>\n",
              "      <th>radio</th>\n",
              "      <th>newspaper</th>\n",
              "      <th>sales</th>\n",
              "    </tr>\n",
              "  </thead>\n",
              "  <tbody>\n",
              "    <tr>\n",
              "      <th>1</th>\n",
              "      <td>230.1</td>\n",
              "      <td>37.8</td>\n",
              "      <td>69.2</td>\n",
              "      <td>22.1</td>\n",
              "    </tr>\n",
              "    <tr>\n",
              "      <th>2</th>\n",
              "      <td>44.5</td>\n",
              "      <td>39.3</td>\n",
              "      <td>45.1</td>\n",
              "      <td>10.4</td>\n",
              "    </tr>\n",
              "    <tr>\n",
              "      <th>3</th>\n",
              "      <td>17.2</td>\n",
              "      <td>45.9</td>\n",
              "      <td>69.3</td>\n",
              "      <td>9.3</td>\n",
              "    </tr>\n",
              "    <tr>\n",
              "      <th>4</th>\n",
              "      <td>151.5</td>\n",
              "      <td>41.3</td>\n",
              "      <td>58.5</td>\n",
              "      <td>18.5</td>\n",
              "    </tr>\n",
              "    <tr>\n",
              "      <th>5</th>\n",
              "      <td>180.8</td>\n",
              "      <td>10.8</td>\n",
              "      <td>58.4</td>\n",
              "      <td>12.9</td>\n",
              "    </tr>\n",
              "    <tr>\n",
              "      <th>6</th>\n",
              "      <td>8.7</td>\n",
              "      <td>48.9</td>\n",
              "      <td>75.0</td>\n",
              "      <td>7.2</td>\n",
              "    </tr>\n",
              "  </tbody>\n",
              "</table>\n",
              "</div>"
            ],
            "text/plain": [
              "      TV  radio  newspaper  sales\n",
              "1  230.1   37.8       69.2   22.1\n",
              "2   44.5   39.3       45.1   10.4\n",
              "3   17.2   45.9       69.3    9.3\n",
              "4  151.5   41.3       58.5   18.5\n",
              "5  180.8   10.8       58.4   12.9\n",
              "6    8.7   48.9       75.0    7.2"
            ]
          },
          "metadata": {},
          "execution_count": 7
        }
      ]
    },
    {
      "cell_type": "code",
      "metadata": {
        "colab": {
          "base_uri": "https://localhost:8080/"
        },
        "id": "b1qnKdyqiFdZ",
        "outputId": "8b567655-a24e-4981-b5ad-4ce65a5281e8"
      },
      "source": [
        "df.dtypes"
      ],
      "execution_count": null,
      "outputs": [
        {
          "output_type": "execute_result",
          "data": {
            "text/plain": [
              "TV           float64\n",
              "radio        float64\n",
              "newspaper    float64\n",
              "sales        float64\n",
              "dtype: object"
            ]
          },
          "metadata": {},
          "execution_count": 6
        }
      ]
    },
    {
      "cell_type": "code",
      "metadata": {
        "colab": {
          "base_uri": "https://localhost:8080/"
        },
        "id": "CIezTMbtkmuZ",
        "outputId": "49c860b1-9c23-46ce-9ad0-8ee8e006a78d"
      },
      "source": [
        "df.info()"
      ],
      "execution_count": null,
      "outputs": [
        {
          "output_type": "stream",
          "name": "stdout",
          "text": [
            "<class 'pandas.core.frame.DataFrame'>\n",
            "Int64Index: 200 entries, 1 to 200\n",
            "Data columns (total 4 columns):\n",
            " #   Column     Non-Null Count  Dtype  \n",
            "---  ------     --------------  -----  \n",
            " 0   TV         200 non-null    float64\n",
            " 1   radio      200 non-null    float64\n",
            " 2   newspaper  200 non-null    float64\n",
            " 3   sales      200 non-null    float64\n",
            "dtypes: float64(4)\n",
            "memory usage: 7.8 KB\n"
          ]
        }
      ]
    },
    {
      "cell_type": "code",
      "metadata": {
        "colab": {
          "base_uri": "https://localhost:8080/",
          "height": 297
        },
        "id": "bXTXPbbUkreM",
        "outputId": "9d841b46-58ba-4456-e7e3-c0eb62db9c9d"
      },
      "source": [
        "df.describe()"
      ],
      "execution_count": null,
      "outputs": [
        {
          "output_type": "execute_result",
          "data": {
            "text/html": [
              "<div>\n",
              "<style scoped>\n",
              "    .dataframe tbody tr th:only-of-type {\n",
              "        vertical-align: middle;\n",
              "    }\n",
              "\n",
              "    .dataframe tbody tr th {\n",
              "        vertical-align: top;\n",
              "    }\n",
              "\n",
              "    .dataframe thead th {\n",
              "        text-align: right;\n",
              "    }\n",
              "</style>\n",
              "<table border=\"1\" class=\"dataframe\">\n",
              "  <thead>\n",
              "    <tr style=\"text-align: right;\">\n",
              "      <th></th>\n",
              "      <th>TV</th>\n",
              "      <th>radio</th>\n",
              "      <th>newspaper</th>\n",
              "      <th>sales</th>\n",
              "    </tr>\n",
              "  </thead>\n",
              "  <tbody>\n",
              "    <tr>\n",
              "      <th>count</th>\n",
              "      <td>200.000000</td>\n",
              "      <td>200.000000</td>\n",
              "      <td>200.000000</td>\n",
              "      <td>200.000000</td>\n",
              "    </tr>\n",
              "    <tr>\n",
              "      <th>mean</th>\n",
              "      <td>147.042500</td>\n",
              "      <td>23.264000</td>\n",
              "      <td>30.554000</td>\n",
              "      <td>14.022500</td>\n",
              "    </tr>\n",
              "    <tr>\n",
              "      <th>std</th>\n",
              "      <td>85.854236</td>\n",
              "      <td>14.846809</td>\n",
              "      <td>21.778621</td>\n",
              "      <td>5.217457</td>\n",
              "    </tr>\n",
              "    <tr>\n",
              "      <th>min</th>\n",
              "      <td>0.700000</td>\n",
              "      <td>0.000000</td>\n",
              "      <td>0.300000</td>\n",
              "      <td>1.600000</td>\n",
              "    </tr>\n",
              "    <tr>\n",
              "      <th>25%</th>\n",
              "      <td>74.375000</td>\n",
              "      <td>9.975000</td>\n",
              "      <td>12.750000</td>\n",
              "      <td>10.375000</td>\n",
              "    </tr>\n",
              "    <tr>\n",
              "      <th>50%</th>\n",
              "      <td>149.750000</td>\n",
              "      <td>22.900000</td>\n",
              "      <td>25.750000</td>\n",
              "      <td>12.900000</td>\n",
              "    </tr>\n",
              "    <tr>\n",
              "      <th>75%</th>\n",
              "      <td>218.825000</td>\n",
              "      <td>36.525000</td>\n",
              "      <td>45.100000</td>\n",
              "      <td>17.400000</td>\n",
              "    </tr>\n",
              "    <tr>\n",
              "      <th>max</th>\n",
              "      <td>296.400000</td>\n",
              "      <td>49.600000</td>\n",
              "      <td>114.000000</td>\n",
              "      <td>27.000000</td>\n",
              "    </tr>\n",
              "  </tbody>\n",
              "</table>\n",
              "</div>"
            ],
            "text/plain": [
              "               TV       radio   newspaper       sales\n",
              "count  200.000000  200.000000  200.000000  200.000000\n",
              "mean   147.042500   23.264000   30.554000   14.022500\n",
              "std     85.854236   14.846809   21.778621    5.217457\n",
              "min      0.700000    0.000000    0.300000    1.600000\n",
              "25%     74.375000    9.975000   12.750000   10.375000\n",
              "50%    149.750000   22.900000   25.750000   12.900000\n",
              "75%    218.825000   36.525000   45.100000   17.400000\n",
              "max    296.400000   49.600000  114.000000   27.000000"
            ]
          },
          "metadata": {},
          "execution_count": 8
        }
      ]
    },
    {
      "cell_type": "code",
      "metadata": {
        "colab": {
          "base_uri": "https://localhost:8080/"
        },
        "id": "wFBkiboyk1Vy",
        "outputId": "4f7d29c8-33ca-4f68-e4e5-551f2d03f819"
      },
      "source": [
        "df.shape"
      ],
      "execution_count": null,
      "outputs": [
        {
          "output_type": "execute_result",
          "data": {
            "text/plain": [
              "(200, 4)"
            ]
          },
          "metadata": {},
          "execution_count": 8
        }
      ]
    },
    {
      "cell_type": "code",
      "metadata": {
        "colab": {
          "base_uri": "https://localhost:8080/",
          "height": 1000
        },
        "id": "kx9CEOUilU4C",
        "outputId": "c79fab9c-8691-493b-f632-3dc157d2677e"
      },
      "source": [
        "for i in df.columns:\n",
        "  df.boxplot(column=i)\n",
        "  plt.show()"
      ],
      "execution_count": null,
      "outputs": [
        {
          "output_type": "display_data",
          "data": {
            "image/png": "[encoded data removed]",
            "text/plain": [
              "<Figure size 432x288 with 1 Axes>"
            ]
          },
          "metadata": {
            "needs_background": "light"
          }
        },
        {
          "output_type": "display_data",
          "data": {
            "image/png": "[encoded data removed]",
            "text/plain": [
              "<Figure size 432x288 with 1 Axes>"
            ]
          },
          "metadata": {
            "needs_background": "light"
          }
        },
        {
          "output_type": "display_data",
          "data": {
            "image/png": "[encoded data removed]",
            "text/plain": [
              "<Figure size 432x288 with 1 Axes>"
            ]
          },
          "metadata": {
            "needs_background": "light"
          }
        },
        {
          "output_type": "display_data",
          "data": {
            "image/png": "[encoded data removed]",
            "text/plain": [
              "<Figure size 432x288 with 1 Axes>"
            ]
          },
          "metadata": {
            "needs_background": "light"
          }
        }
      ]
    },
    {
      "cell_type": "code",
      "metadata": {
        "id": "OqTfGS3TJI_D"
      },
      "source": [],
      "execution_count": null,
      "outputs": []
    },
    {
      "cell_type": "code",
      "metadata": {
        "colab": {
          "base_uri": "https://localhost:8080/",
          "height": 214
        },
        "id": "629ncmQ1n_EO",
        "outputId": "50d43c76-66f7-458b-a957-ae41af1d6146"
      },
      "source": [
        "#Assumption 2:Assumption of Linearity:Every ind var should have a linear relationship with the dep var.\n",
        "plt.figure(figsize=(30,15))\n",
        "sns.pairplot(df,x_vars=df.columns[0:-1],y_vars=\"sales\",kind='reg')\n",
        "plt.show()"
      ],
      "execution_count": null,
      "outputs": [
        {
          "output_type": "display_data",
          "data": {
            "text/plain": [
              "<Figure size 2160x1080 with 0 Axes>"
            ]
          },
          "metadata": {}
        },
        {
          "output_type": "display_data",
          "data": {
            "image/png": "[encoded data removed]",
            "text/plain": [
              "<Figure size 540x180 with 3 Axes>"
            ]
          },
          "metadata": {
            "needs_background": "light"
          }
        }
      ]
    },
    {
      "cell_type": "code",
      "metadata": {
        "colab": {
          "base_uri": "https://localhost:8080/",
          "height": 743
        },
        "id": "bTaNtEiOoAqv",
        "outputId": "74aa8722-bd67-4a08-880e-551694aa6c73"
      },
      "source": [
        "sns.pairplot(df,kind=\"reg\")"
      ],
      "execution_count": null,
      "outputs": [
        {
          "output_type": "execute_result",
          "data": {
            "text/plain": [
              "<seaborn.axisgrid.PairGrid at 0x7f7417984990>"
            ]
          },
          "metadata": {},
          "execution_count": 11
        },
        {
          "output_type": "display_data",
          "data": {
            "image/png": "[encoded data removed]",
            "text/plain": [
              "<Figure size 720x720 with 20 Axes>"
            ]
          },
          "metadata": {
            "needs_background": "light"
          }
        }
      ]
    },
    {
      "cell_type": "code",
      "metadata": {
        "id": "mLH6b2QRoBch"
      },
      "source": [
        "#data.drop([\"newspaper\"],axis=1,inplace=True)"
      ],
      "execution_count": null,
      "outputs": []
    },
    {
      "cell_type": "code",
      "metadata": {
        "id": "c1IziCjhoCCH"
      },
      "source": [
        "#creat X and Y"
      ],
      "execution_count": null,
      "outputs": []
    },
    {
      "cell_type": "code",
      "metadata": {
        "id": "8dCd1hERtq02"
      },
      "source": [
        "X= df[[\"newspaper\",\"TV\",\"radio\"]]"
      ],
      "execution_count": null,
      "outputs": []
    },
    {
      "cell_type": "code",
      "metadata": {
        "id": "w3Qsxj85oCR1"
      },
      "source": [
        "Y=df[[\"sales\"]]"
      ],
      "execution_count": null,
      "outputs": []
    },
    {
      "cell_type": "code",
      "metadata": {
        "colab": {
          "base_uri": "https://localhost:8080/",
          "height": 336
        },
        "id": "OCrxCyh6l2o7",
        "outputId": "4e23f486-3b37-44ed-ec37-207aa80b41b8"
      },
      "source": [
        "#Assumption of Normality: The dependent variable should follow an approximate normal distribtion\n",
        "sns.distplot(Y,hist=True)"
      ],
      "execution_count": null,
      "outputs": [
        {
          "output_type": "stream",
          "name": "stderr",
          "text": [
            "/usr/local/lib/python3.7/dist-packages/seaborn/distributions.py:2619: FutureWarning: `distplot` is a deprecated function and will be removed in a future version. Please adapt your code to use either `displot` (a figure-level function with similar flexibility) or `histplot` (an axes-level function for histograms).\n",
            "  warnings.warn(msg, FutureWarning)\n"
          ]
        },
        {
          "output_type": "execute_result",
          "data": {
            "text/plain": [
              "<matplotlib.axes._subplots.AxesSubplot at 0x7f74172c8e50>"
            ]
          },
          "metadata": {},
          "execution_count": 14
        },
        {
          "output_type": "display_data",
          "data": {
            "image/png": "[encoded data removed]",
            "text/plain": [
              "<Figure size 432x288 with 1 Axes>"
            ]
          },
          "metadata": {
            "needs_background": "light"
          }
        }
      ]
    },
    {
      "cell_type": "code",
      "metadata": {
        "colab": {
          "base_uri": "https://localhost:8080/",
          "height": 35
        },
        "id": "FxVSUE5GvIlA",
        "outputId": "7f22232b-85ec-46c1-85e0-e823faf52bb8"
      },
      "source": [
        "\"\"\"\n",
        "# Log transformation\n",
        "import numpy as np\n",
        "Y_l\"\"\""
      ],
      "execution_count": null,
      "outputs": [
        {
          "output_type": "execute_result",
          "data": {
            "application/vnd.google.colaboratory.intrinsic+json": {
              "type": "string"
            },
            "text/plain": [
              "'\\n# Log transformation\\nimport numpy as np\\nY_l'"
            ]
          },
          "metadata": {
            "tags": []
          },
          "execution_count": 17
        }
      ]
    },
    {
      "cell_type": "code",
      "metadata": {
        "id": "qKRnjJ8mvKMl"
      },
      "source": [
        "#import numpy as np\n",
        "#Y_log  = np.log(Y)"
      ],
      "execution_count": null,
      "outputs": []
    },
    {
      "cell_type": "code",
      "metadata": {
        "id": "3LnhKUqyuOY7",
        "colab": {
          "base_uri": "https://localhost:8080/",
          "height": 336
        },
        "outputId": "4949afa1-8d7f-4c3f-d3df-a7cc1a4b6297"
      },
      "source": [
        "#sns.distplot(Y_log,hist=True)"
      ],
      "execution_count": null,
      "outputs": [
        {
          "output_type": "stream",
          "name": "stderr",
          "text": [
            "/usr/local/lib/python3.7/dist-packages/seaborn/distributions.py:2619: FutureWarning: `distplot` is a deprecated function and will be removed in a future version. Please adapt your code to use either `displot` (a figure-level function with similar flexibility) or `histplot` (an axes-level function for histograms).\n",
            "  warnings.warn(msg, FutureWarning)\n"
          ]
        },
        {
          "output_type": "execute_result",
          "data": {
            "text/plain": [
              "<matplotlib.axes._subplots.AxesSubplot at 0x7f74098be610>"
            ]
          },
          "metadata": {},
          "execution_count": 19
        },
        {
          "output_type": "display_data",
          "data": {
            "image/png": "[encoded data removed]",
            "text/plain": [
              "<Figure size 432x288 with 1 Axes>"
            ]
          },
          "metadata": {
            "needs_background": "light"
          }
        }
      ]
    },
    {
      "cell_type": "code",
      "metadata": {
        "id": "VSy4L_QRveF9",
        "colab": {
          "base_uri": "https://localhost:8080/",
          "height": 366
        },
        "outputId": "2dcf3614-efb7-428a-a71e-fc9d06a0cc48"
      },
      "source": [
        "X.hist(bins=20)"
      ],
      "execution_count": null,
      "outputs": [
        {
          "output_type": "execute_result",
          "data": {
            "text/plain": [
              "array([[<matplotlib.axes._subplots.AxesSubplot object at 0x7f9dfa650810>,\n",
              "        <matplotlib.axes._subplots.AxesSubplot object at 0x7f9decbc1710>],\n",
              "       [<matplotlib.axes._subplots.AxesSubplot object at 0x7f9decbedd90>,\n",
              "        <matplotlib.axes._subplots.AxesSubplot object at 0x7f9decbb0450>]],\n",
              "      dtype=object)"
            ]
          },
          "metadata": {
            "tags": []
          },
          "execution_count": 20
        },
        {
          "output_type": "display_data",
          "data": {
            "image/png": "[encoded data removed]",
            "text/plain": [
              "<Figure size 432x288 with 4 Axes>"
            ]
          },
          "metadata": {
            "tags": [],
            "needs_background": "light"
          }
        }
      ]
    },
    {
      "cell_type": "code",
      "metadata": {
        "id": "LxgThnDJAf_j"
      },
      "source": [
        "#newpaper is positively skewed"
      ],
      "execution_count": null,
      "outputs": []
    },
    {
      "cell_type": "code",
      "metadata": {
        "colab": {
          "base_uri": "https://localhost:8080/"
        },
        "id": "69yvJnmzArg9",
        "outputId": "210225b2-c6c1-4c13-b8ee-6315d361b5d4"
      },
      "source": [
        "from scipy.stats import skew\n",
        "#finding the skewness in each variable\n",
        "data_num_skew = X.apply(lambda i: skew(i.dropna()))\n",
        "#subsetting the variables that are highly skewed\n",
        "data_num_skewed = data_num_skew[(data_num_skew > .75) | (data_num_skew < -.75)]\n",
        "\n",
        "\n",
        "\n",
        "\n",
        "print(data_num_skew)\n",
        "print(data_num_skewed)\n",
        "import numpy as np\n",
        "# apply log + 1 transformation for all numeric features with skewness over .75\n",
        "X[data_num_skewed.index] = np.log1p(X[data_num_skewed.index])"
      ],
      "execution_count": null,
      "outputs": [
        {
          "output_type": "stream",
          "name": "stdout",
          "text": [
            "newspaper    0.887996\n",
            "TV          -0.069328\n",
            "radio        0.093467\n",
            "dtype: float64\n",
            "newspaper    0.887996\n",
            "dtype: float64\n"
          ]
        },
        {
          "output_type": "stream",
          "name": "stderr",
          "text": [
            "/usr/local/lib/python3.7/dist-packages/pandas/core/frame.py:3069: SettingWithCopyWarning: \n",
            "A value is trying to be set on a copy of a slice from a DataFrame.\n",
            "Try using .loc[row_indexer,col_indexer] = value instead\n",
            "\n",
            "See the caveats in the documentation: https://pandas.pydata.org/pandas-docs/stable/user_guide/indexing.html#returning-a-view-versus-a-copy\n",
            "  self[k1] = value[k2]\n"
          ]
        }
      ]
    },
    {
      "cell_type": "code",
      "metadata": {
        "colab": {
          "base_uri": "https://localhost:8080/"
        },
        "id": "VmUD3uYYAtgf",
        "outputId": "b766e089-980d-4db8-89f9-09ef7b929f2f"
      },
      "source": [
        "          X.newspaper.skew()"
      ],
      "execution_count": null,
      "outputs": [
        {
          "output_type": "execute_result",
          "data": {
            "text/plain": [
              "-0.7998749355228585"
            ]
          },
          "metadata": {},
          "execution_count": 21
        }
      ]
    },
    {
      "cell_type": "code",
      "metadata": {
        "colab": {
          "base_uri": "https://localhost:8080/",
          "height": 354
        },
        "id": "REzv2wl_BThA",
        "outputId": "862402c5-5e9a-42e2-ed1e-5e94fc260c72"
      },
      "source": [
        "#Assumption of no multicollinearity: There should be no multicollinearity between the independent variables\n",
        "corr_df=X.corr(method=\"pearson\")\n",
        "print(corr_df)\n",
        "\n",
        "sns.heatmap(corr_df,vmax=1.0,vmin=-1.0,annot=True)"
      ],
      "execution_count": null,
      "outputs": [
        {
          "output_type": "stream",
          "name": "stdout",
          "text": [
            "           newspaper        TV     radio\n",
            "newspaper   1.000000  0.030951  0.251909\n",
            "TV          0.030951  1.000000  0.054809\n",
            "radio       0.251909  0.054809  1.000000\n"
          ]
        },
        {
          "output_type": "execute_result",
          "data": {
            "text/plain": [
              "<matplotlib.axes._subplots.AxesSubplot at 0x7f7409842c10>"
            ]
          },
          "metadata": {},
          "execution_count": 22
        },
        {
          "output_type": "display_data",
          "data": {
            "image/png": "[encoded data removed]",
            "text/plain": [
              "<Figure size 432x288 with 2 Axes>"
            ]
          },
          "metadata": {
            "needs_background": "light"
          }
        }
      ]
    },
    {
      "cell_type": "code",
      "metadata": {
        "colab": {
          "base_uri": "https://localhost:8080/",
          "height": 142
        },
        "id": "btCsR-B_K5Ox",
        "outputId": "15ee11ae-f16b-4591-a8a2-1f14a0977689"
      },
      "source": [
        "from statsmodels.stats.outliers_influence import variance_inflation_factor as vif\n",
        "\n",
        "vif_df = pd.DataFrame()\n",
        "vif_df[\"features\"] = X.columns\n",
        "vif_df[\"VIF Factor\"] = [vif(X.values, i) for i in range(X.shape[1])]\n",
        "vif_df.round(2)\n",
        "\n"
      ],
      "execution_count": null,
      "outputs": [
        {
          "output_type": "execute_result",
          "data": {
            "text/html": [
              "<div>\n",
              "<style scoped>\n",
              "    .dataframe tbody tr th:only-of-type {\n",
              "        vertical-align: middle;\n",
              "    }\n",
              "\n",
              "    .dataframe tbody tr th {\n",
              "        vertical-align: top;\n",
              "    }\n",
              "\n",
              "    .dataframe thead th {\n",
              "        text-align: right;\n",
              "    }\n",
              "</style>\n",
              "<table border=\"1\" class=\"dataframe\">\n",
              "  <thead>\n",
              "    <tr style=\"text-align: right;\">\n",
              "      <th></th>\n",
              "      <th>features</th>\n",
              "      <th>VIF Factor</th>\n",
              "    </tr>\n",
              "  </thead>\n",
              "  <tbody>\n",
              "    <tr>\n",
              "      <th>0</th>\n",
              "      <td>newspaper</td>\n",
              "      <td>5.44</td>\n",
              "    </tr>\n",
              "    <tr>\n",
              "      <th>1</th>\n",
              "      <td>TV</td>\n",
              "      <td>3.39</td>\n",
              "    </tr>\n",
              "    <tr>\n",
              "      <th>2</th>\n",
              "      <td>radio</td>\n",
              "      <td>3.63</td>\n",
              "    </tr>\n",
              "  </tbody>\n",
              "</table>\n",
              "</div>"
            ],
            "text/plain": [
              "    features  VIF Factor\n",
              "0  newspaper        5.44\n",
              "1         TV        3.39\n",
              "2      radio        3.63"
            ]
          },
          "metadata": {},
          "execution_count": 24
        }
      ]
    },
    {
      "cell_type": "code",
      "metadata": {
        "id": "v1dykG7wK-Eo"
      },
      "source": [
        "#X.drop(\"newspaper\",axis=1,inplace=True)\n",
        "#rerun the VIF code"
      ],
      "execution_count": null,
      "outputs": []
    },
    {
      "cell_type": "code",
      "metadata": {
        "id": "B-Q9OurCNebw"
      },
      "source": [
        "from sklearn.model_selection import train_test_split"
      ],
      "execution_count": null,
      "outputs": []
    },
    {
      "cell_type": "code",
      "metadata": {
        "id": "JDedidAaTmV9"
      },
      "source": [
        "from sklearn.model_selection import train_test_split\n",
        "\n",
        "#Split the data into test and train\n",
        "X_train, X_test, Y_train, Y_test = train_test_split(X, Y, test_size=0.2,\n",
        "random_state=10)"
      ],
      "execution_count": null,
      "outputs": []
    },
    {
      "cell_type": "code",
      "metadata": {
        "colab": {
          "base_uri": "https://localhost:8080/"
        },
        "id": "VHeau1ItVk9h",
        "outputId": "11aa3179-15f8-4c10-9e50-f8f7ff3d2958"
      },
      "source": [
        "print(X_test.shape , X_train.shape , Y_test.shape ,Y_train.shape)"
      ],
      "execution_count": null,
      "outputs": [
        {
          "output_type": "stream",
          "name": "stdout",
          "text": [
            "(40, 3) (160, 3) (40, 1) (160, 1)\n"
          ]
        }
      ]
    },
    {
      "cell_type": "code",
      "metadata": {
        "id": "qL2jPQpDVo1K"
      },
      "source": [
        "from sklearn.linear_model import LinearRegression"
      ],
      "execution_count": null,
      "outputs": []
    },
    {
      "cell_type": "code",
      "metadata": {
        "colab": {
          "base_uri": "https://localhost:8080/"
        },
        "id": "UMtR671uW5fX",
        "outputId": "e35d79ec-5ade-43ab-a35d-c7ea88902ea1"
      },
      "source": [
        "#create a model function\n",
        "lm=LinearRegression()\n",
        "#create a training model\n",
        "lm.fit(X_train,Y_train)"
      ],
      "execution_count": null,
      "outputs": [
        {
          "output_type": "execute_result",
          "data": {
            "text/plain": [
              "LinearRegression(copy_X=True, fit_intercept=True, n_jobs=None, normalize=False)"
            ]
          },
          "metadata": {},
          "execution_count": 29
        }
      ]
    },
    {
      "cell_type": "code",
      "metadata": {
        "colab": {
          "base_uri": "https://localhost:8080/"
        },
        "id": "_DzThzUBW8cE",
        "outputId": "a6f0f8e4-a784-4cea-bd03-58387fa19e90"
      },
      "source": [
        "print(lm.intercept_)"
      ],
      "execution_count": null,
      "outputs": [
        {
          "output_type": "stream",
          "name": "stdout",
          "text": [
            "[3.35329139]\n"
          ]
        }
      ]
    },
    {
      "cell_type": "code",
      "metadata": {
        "colab": {
          "base_uri": "https://localhost:8080/"
        },
        "id": "GoDHiSWuYtuH",
        "outputId": "f9858dce-839e-42ec-a86d-2f475cd47388"
      },
      "source": [
        "print(lm.coef_)"
      ],
      "execution_count": null,
      "outputs": [
        {
          "output_type": "stream",
          "name": "stdout",
          "text": [
            "[[-0.04895137  0.0437425   0.19303708]]\n"
          ]
        }
      ]
    },
    {
      "cell_type": "code",
      "metadata": {
        "colab": {
          "base_uri": "https://localhost:8080/"
        },
        "id": "UhQKOEdJYx-O",
        "outputId": "38bd0f90-d41e-4036-a9a3-973eb7b6ca7c"
      },
      "source": [
        "# pair the feature names with the coefficients\n",
        "print(list(zip(X.columns, lm.coef_)))"
      ],
      "execution_count": null,
      "outputs": [
        {
          "output_type": "stream",
          "name": "stdout",
          "text": [
            "[('newspaper', array([-0.04895137,  0.0437425 ,  0.19303708]))]\n"
          ]
        }
      ]
    },
    {
      "cell_type": "code",
      "metadata": {
        "colab": {
          "base_uri": "https://localhost:8080/"
        },
        "id": "3HsQrXRVaVol",
        "outputId": "af225b4b-3d84-4d49-c4dc-a0b157f1ae9b"
      },
      "source": [
        "print(X)"
      ],
      "execution_count": null,
      "outputs": [
        {
          "output_type": "stream",
          "name": "stdout",
          "text": [
            "     newspaper     TV  radio\n",
            "1     4.251348  230.1   37.8\n",
            "2     3.830813   44.5   39.3\n",
            "3     4.252772   17.2   45.9\n",
            "4     4.085976  151.5   41.3\n",
            "5     4.084294  180.8   10.8\n",
            "..         ...    ...    ...\n",
            "196   2.694627   38.2    3.7\n",
            "197   2.208274   94.2    4.9\n",
            "198   2.001480  177.0    9.3\n",
            "199   4.207673  283.6   42.0\n",
            "200   2.272126  232.1    8.6\n",
            "\n",
            "[200 rows x 3 columns]\n"
          ]
        }
      ]
    },
    {
      "cell_type": "code",
      "metadata": {
        "colab": {
          "base_uri": "https://localhost:8080/"
        },
        "id": "x9I2TpbLanyz",
        "outputId": "356caa00-02b0-4216-8a3e-a3c73731b2d7"
      },
      "source": [
        "# pair the feature names with the coefficients\n",
        "print(list(zip(X.columns, lm.coef_.ravel())))"
      ],
      "execution_count": null,
      "outputs": [
        {
          "output_type": "stream",
          "name": "stdout",
          "text": [
            "[('newspaper', -0.048951368222487274), ('TV', 0.043742501577421655), ('radio', 0.19303707897345287)]\n"
          ]
        }
      ]
    },
    {
      "cell_type": "code",
      "metadata": {
        "colab": {
          "base_uri": "https://localhost:8080/"
        },
        "id": "ZJDIG_CGazln",
        "outputId": "152f1617-21be-4621-f39e-d9d76b7862c2"
      },
      "source": [
        "X1=100\n",
        "X2=100\n",
        "X3=np.log1p(100)\n",
        "Y_pred=3.3532913858151474+(0.0437425 *X1)+(0.19303708*X2)+(-0.04895137*X3)\n",
        "print(Y_pred)"
      ],
      "execution_count": null,
      "outputs": [
        {
          "output_type": "stream",
          "name": "stdout",
          "text": [
            "26.805332913800658\n"
          ]
        }
      ]
    },
    {
      "cell_type": "code",
      "metadata": {
        "id": "-e_KTBc1b18a"
      },
      "source": [
        "# newpaper having negetive effect in sales"
      ],
      "execution_count": null,
      "outputs": []
    },
    {
      "cell_type": "code",
      "metadata": {
        "colab": {
          "base_uri": "https://localhost:8080/"
        },
        "id": "Gkybe8aIcKBE",
        "outputId": "ffa3830e-9825-4549-8828-2b184277d9c9"
      },
      "source": [
        "X1=100\n",
        "X2=200\n",
        "X3=np.log1p(0)\n",
        "Y_pred=3.3532913858151474+(0.0437425 *X1)+(0.19303708*X2)+(-0.04895137*X3)\n",
        "print(Y_pred)"
      ],
      "execution_count": null,
      "outputs": [
        {
          "output_type": "stream",
          "name": "stdout",
          "text": [
            "46.334957385815144\n"
          ]
        }
      ]
    },
    {
      "cell_type": "code",
      "metadata": {
        "id": "z0_udTkscMzK"
      },
      "source": [
        "Y_pred=(lm.predict(X_test))"
      ],
      "execution_count": null,
      "outputs": []
    },
    {
      "cell_type": "code",
      "metadata": {
        "colab": {
          "base_uri": "https://localhost:8080/"
        },
        "id": "wO592l_cdwH8",
        "outputId": "4c2f8fe7-8932-4435-9f46-0dec1853a929"
      },
      "source": [
        "print(Y_pred)"
      ],
      "execution_count": null,
      "outputs": [
        {
          "output_type": "stream",
          "name": "stdout",
          "text": [
            "[[18.15026866]\n",
            " [12.96136899]\n",
            " [18.05815332]\n",
            " [23.66025079]\n",
            " [20.68751041]\n",
            " [14.26325872]\n",
            " [14.92774472]\n",
            " [21.38847375]\n",
            " [21.14752911]\n",
            " [12.75788534]\n",
            " [23.99735583]\n",
            " [ 7.20632737]\n",
            " [12.30777109]\n",
            " [19.22813333]\n",
            " [19.41581583]\n",
            " [13.44985803]\n",
            " [19.62619644]\n",
            " [ 9.24667496]\n",
            " [21.1052867 ]\n",
            " [20.87838433]\n",
            " [15.52611251]\n",
            " [10.91695579]\n",
            " [22.82910679]\n",
            " [15.82915597]\n",
            " [17.40742204]\n",
            " [ 8.17170435]\n",
            " [11.88738387]\n",
            " [12.69866637]\n",
            " [21.71275044]\n",
            " [ 7.94920205]\n",
            " [12.49118989]\n",
            " [20.43292079]\n",
            " [ 4.71443086]\n",
            " [ 4.72126238]\n",
            " [16.7504848 ]\n",
            " [15.74384945]\n",
            " [ 6.74775596]\n",
            " [17.73750244]\n",
            " [ 9.01170001]\n",
            " [13.60841593]]\n"
          ]
        }
      ]
    },
    {
      "cell_type": "code",
      "metadata": {
        "id": "SCL3ZSEOlGia"
      },
      "source": [],
      "execution_count": null,
      "outputs": []
    },
    {
      "cell_type": "code",
      "metadata": {
        "colab": {
          "base_uri": "https://localhost:8080/"
        },
        "id": "ED9uP3cHd1pu",
        "outputId": "449d112f-b93b-41a7-a366-3f6f1732db1b"
      },
      "source": [
        "lm.score(X_train,Y_train)"
      ],
      "execution_count": null,
      "outputs": [
        {
          "output_type": "execute_result",
          "data": {
            "text/plain": [
              "0.9208986647500219"
            ]
          },
          "metadata": {
            "tags": []
          },
          "execution_count": 42
        }
      ]
    },
    {
      "cell_type": "code",
      "metadata": {
        "colab": {
          "base_uri": "https://localhost:8080/",
          "height": 1000
        },
        "id": "9oQ25ecAekUj",
        "outputId": "7e153b24-e63d-4eff-df0b-b6c93fa69f98"
      },
      "source": [
        "new_df=pd.DataFrame()\n",
        "new_df=X_test\n",
        "\n",
        "new_df[\"Actual sales\"]=Y_test\n",
        "new_df[\"Predicted sales\"]=Y_pred\n",
        "new_df"
      ],
      "execution_count": null,
      "outputs": [
        {
          "output_type": "stream",
          "name": "stderr",
          "text": [
            "/usr/local/lib/python3.7/dist-packages/ipykernel_launcher.py:4: SettingWithCopyWarning: \n",
            "A value is trying to be set on a copy of a slice from a DataFrame.\n",
            "Try using .loc[row_indexer,col_indexer] = value instead\n",
            "\n",
            "See the caveats in the documentation: https://pandas.pydata.org/pandas-docs/stable/user_guide/indexing.html#returning-a-view-versus-a-copy\n",
            "  after removing the cwd from sys.path.\n",
            "/usr/local/lib/python3.7/dist-packages/ipykernel_launcher.py:5: SettingWithCopyWarning: \n",
            "A value is trying to be set on a copy of a slice from a DataFrame.\n",
            "Try using .loc[row_indexer,col_indexer] = value instead\n",
            "\n",
            "See the caveats in the documentation: https://pandas.pydata.org/pandas-docs/stable/user_guide/indexing.html#returning-a-view-versus-a-copy\n",
            "  \"\"\"\n"
          ]
        },
        {
          "output_type": "execute_result",
          "data": {
            "text/html": [
              "<div>\n",
              "<style scoped>\n",
              "    .dataframe tbody tr th:only-of-type {\n",
              "        vertical-align: middle;\n",
              "    }\n",
              "\n",
              "    .dataframe tbody tr th {\n",
              "        vertical-align: top;\n",
              "    }\n",
              "\n",
              "    .dataframe thead th {\n",
              "        text-align: right;\n",
              "    }\n",
              "</style>\n",
              "<table border=\"1\" class=\"dataframe\">\n",
              "  <thead>\n",
              "    <tr style=\"text-align: right;\">\n",
              "      <th></th>\n",
              "      <th>newspaper</th>\n",
              "      <th>TV</th>\n",
              "      <th>radio</th>\n",
              "      <th>Actual sales</th>\n",
              "      <th>Predicted sales</th>\n",
              "    </tr>\n",
              "  </thead>\n",
              "  <tbody>\n",
              "    <tr>\n",
              "      <th>60</th>\n",
              "      <td>2.332144</td>\n",
              "      <td>210.7</td>\n",
              "      <td>29.5</td>\n",
              "      <td>18.4</td>\n",
              "      <td>18.150269</td>\n",
              "    </tr>\n",
              "    <tr>\n",
              "      <th>6</th>\n",
              "      <td>4.330733</td>\n",
              "      <td>8.7</td>\n",
              "      <td>48.9</td>\n",
              "      <td>7.2</td>\n",
              "      <td>12.961369</td>\n",
              "    </tr>\n",
              "    <tr>\n",
              "      <th>21</th>\n",
              "      <td>3.996364</td>\n",
              "      <td>218.4</td>\n",
              "      <td>27.7</td>\n",
              "      <td>18.0</td>\n",
              "      <td>18.058153</td>\n",
              "    </tr>\n",
              "    <tr>\n",
              "      <th>199</th>\n",
              "      <td>4.207673</td>\n",
              "      <td>283.6</td>\n",
              "      <td>42.0</td>\n",
              "      <td>25.5</td>\n",
              "      <td>23.660251</td>\n",
              "    </tr>\n",
              "    <tr>\n",
              "      <th>53</th>\n",
              "      <td>3.703768</td>\n",
              "      <td>216.4</td>\n",
              "      <td>41.7</td>\n",
              "      <td>22.6</td>\n",
              "      <td>20.687510</td>\n",
              "    </tr>\n",
              "    <tr>\n",
              "      <th>20</th>\n",
              "      <td>3.000720</td>\n",
              "      <td>147.3</td>\n",
              "      <td>23.9</td>\n",
              "      <td>14.6</td>\n",
              "      <td>14.263259</td>\n",
              "    </tr>\n",
              "    <tr>\n",
              "      <th>163</th>\n",
              "      <td>3.280911</td>\n",
              "      <td>188.4</td>\n",
              "      <td>18.1</td>\n",
              "      <td>14.9</td>\n",
              "      <td>14.927745</td>\n",
              "    </tr>\n",
              "    <tr>\n",
              "      <th>56</th>\n",
              "      <td>4.110874</td>\n",
              "      <td>198.9</td>\n",
              "      <td>49.4</td>\n",
              "      <td>23.7</td>\n",
              "      <td>21.388474</td>\n",
              "    </tr>\n",
              "    <tr>\n",
              "      <th>70</th>\n",
              "      <td>3.339322</td>\n",
              "      <td>216.8</td>\n",
              "      <td>43.9</td>\n",
              "      <td>22.3</td>\n",
              "      <td>21.147529</td>\n",
              "    </tr>\n",
              "    <tr>\n",
              "      <th>3</th>\n",
              "      <td>4.252772</td>\n",
              "      <td>17.2</td>\n",
              "      <td>45.9</td>\n",
              "      <td>9.3</td>\n",
              "      <td>12.757885</td>\n",
              "    </tr>\n",
              "    <tr>\n",
              "      <th>99</th>\n",
              "      <td>3.955082</td>\n",
              "      <td>289.7</td>\n",
              "      <td>42.3</td>\n",
              "      <td>25.4</td>\n",
              "      <td>23.997356</td>\n",
              "    </tr>\n",
              "    <tr>\n",
              "      <th>11</th>\n",
              "      <td>3.226844</td>\n",
              "      <td>66.1</td>\n",
              "      <td>5.8</td>\n",
              "      <td>8.6</td>\n",
              "      <td>7.206327</td>\n",
              "    </tr>\n",
              "    <tr>\n",
              "      <th>76</th>\n",
              "      <td>4.504244</td>\n",
              "      <td>16.9</td>\n",
              "      <td>43.7</td>\n",
              "      <td>8.7</td>\n",
              "      <td>12.307771</td>\n",
              "    </tr>\n",
              "    <tr>\n",
              "      <th>143</th>\n",
              "      <td>3.660994</td>\n",
              "      <td>220.5</td>\n",
              "      <td>33.2</td>\n",
              "      <td>20.1</td>\n",
              "      <td>19.228133</td>\n",
              "    </tr>\n",
              "    <tr>\n",
              "      <th>125</th>\n",
              "      <td>4.320151</td>\n",
              "      <td>229.5</td>\n",
              "      <td>32.3</td>\n",
              "      <td>19.7</td>\n",
              "      <td>19.415816</td>\n",
              "    </tr>\n",
              "    <tr>\n",
              "      <th>64</th>\n",
              "      <td>2.240710</td>\n",
              "      <td>102.7</td>\n",
              "      <td>29.6</td>\n",
              "      <td>14.0</td>\n",
              "      <td>13.449858</td>\n",
              "    </tr>\n",
              "    <tr>\n",
              "      <th>110</th>\n",
              "      <td>1.871802</td>\n",
              "      <td>255.4</td>\n",
              "      <td>26.9</td>\n",
              "      <td>19.8</td>\n",
              "      <td>19.626196</td>\n",
              "    </tr>\n",
              "    <tr>\n",
              "      <th>79</th>\n",
              "      <td>2.341806</td>\n",
              "      <td>5.4</td>\n",
              "      <td>29.9</td>\n",
              "      <td>5.3</td>\n",
              "      <td>9.246675</td>\n",
              "    </tr>\n",
              "    <tr>\n",
              "      <th>112</th>\n",
              "      <td>3.186353</td>\n",
              "      <td>241.7</td>\n",
              "      <td>38.0</td>\n",
              "      <td>21.8</td>\n",
              "      <td>21.105287</td>\n",
              "    </tr>\n",
              "    <tr>\n",
              "      <th>186</th>\n",
              "      <td>3.025291</td>\n",
              "      <td>205.0</td>\n",
              "      <td>45.1</td>\n",
              "      <td>22.6</td>\n",
              "      <td>20.878384</td>\n",
              "    </tr>\n",
              "    <tr>\n",
              "      <th>155</th>\n",
              "      <td>2.351375</td>\n",
              "      <td>187.8</td>\n",
              "      <td>21.1</td>\n",
              "      <td>15.6</td>\n",
              "      <td>15.526113</td>\n",
              "    </tr>\n",
              "    <tr>\n",
              "      <th>131</th>\n",
              "      <td>2.272126</td>\n",
              "      <td>0.7</td>\n",
              "      <td>39.6</td>\n",
              "      <td>1.6</td>\n",
              "      <td>10.916956</td>\n",
              "    </tr>\n",
              "    <tr>\n",
              "      <th>62</th>\n",
              "      <td>4.019980</td>\n",
              "      <td>261.3</td>\n",
              "      <td>42.7</td>\n",
              "      <td>24.2</td>\n",
              "      <td>22.829107</td>\n",
              "    </tr>\n",
              "    <tr>\n",
              "      <th>88</th>\n",
              "      <td>4.162003</td>\n",
              "      <td>110.7</td>\n",
              "      <td>40.6</td>\n",
              "      <td>16.0</td>\n",
              "      <td>15.829156</td>\n",
              "    </tr>\n",
              "    <tr>\n",
              "      <th>103</th>\n",
              "      <td>3.109061</td>\n",
              "      <td>280.2</td>\n",
              "      <td>10.1</td>\n",
              "      <td>14.8</td>\n",
              "      <td>17.407422</td>\n",
              "    </tr>\n",
              "    <tr>\n",
              "      <th>122</th>\n",
              "      <td>3.939638</td>\n",
              "      <td>18.8</td>\n",
              "      <td>21.7</td>\n",
              "      <td>7.0</td>\n",
              "      <td>8.171704</td>\n",
              "    </tr>\n",
              "    <tr>\n",
              "      <th>137</th>\n",
              "      <td>2.332144</td>\n",
              "      <td>25.6</td>\n",
              "      <td>39.0</td>\n",
              "      <td>9.5</td>\n",
              "      <td>11.887384</td>\n",
              "    </tr>\n",
              "    <tr>\n",
              "      <th>2</th>\n",
              "      <td>3.830813</td>\n",
              "      <td>44.5</td>\n",
              "      <td>39.3</td>\n",
              "      <td>10.4</td>\n",
              "      <td>12.698666</td>\n",
              "    </tr>\n",
              "    <tr>\n",
              "      <th>48</th>\n",
              "      <td>2.970414</td>\n",
              "      <td>239.9</td>\n",
              "      <td>41.5</td>\n",
              "      <td>23.2</td>\n",
              "      <td>21.712750</td>\n",
              "    </tr>\n",
              "    <tr>\n",
              "      <th>173</th>\n",
              "      <td>2.890372</td>\n",
              "      <td>19.6</td>\n",
              "      <td>20.1</td>\n",
              "      <td>7.6</td>\n",
              "      <td>7.949202</td>\n",
              "    </tr>\n",
              "    <tr>\n",
              "      <th>160</th>\n",
              "      <td>3.572346</td>\n",
              "      <td>131.7</td>\n",
              "      <td>18.4</td>\n",
              "      <td>12.9</td>\n",
              "      <td>12.491190</td>\n",
              "    </tr>\n",
              "    <tr>\n",
              "      <th>40</th>\n",
              "      <td>3.496508</td>\n",
              "      <td>228.0</td>\n",
              "      <td>37.7</td>\n",
              "      <td>21.5</td>\n",
              "      <td>20.432921</td>\n",
              "    </tr>\n",
              "    <tr>\n",
              "      <th>77</th>\n",
              "      <td>3.077312</td>\n",
              "      <td>27.5</td>\n",
              "      <td>1.6</td>\n",
              "      <td>6.9</td>\n",
              "      <td>4.714431</td>\n",
              "    </tr>\n",
              "    <tr>\n",
              "      <th>92</th>\n",
              "      <td>3.526361</td>\n",
              "      <td>28.6</td>\n",
              "      <td>1.5</td>\n",
              "      <td>7.3</td>\n",
              "      <td>4.721262</td>\n",
              "    </tr>\n",
              "    <tr>\n",
              "      <th>36</th>\n",
              "      <td>2.251292</td>\n",
              "      <td>290.7</td>\n",
              "      <td>4.1</td>\n",
              "      <td>12.8</td>\n",
              "      <td>16.750485</td>\n",
              "    </tr>\n",
              "    <tr>\n",
              "      <th>179</th>\n",
              "      <td>3.206803</td>\n",
              "      <td>276.7</td>\n",
              "      <td>2.3</td>\n",
              "      <td>11.8</td>\n",
              "      <td>15.743849</td>\n",
              "    </tr>\n",
              "    <tr>\n",
              "      <th>128</th>\n",
              "      <td>2.322388</td>\n",
              "      <td>80.2</td>\n",
              "      <td>0.0</td>\n",
              "      <td>8.8</td>\n",
              "      <td>6.747756</td>\n",
              "    </tr>\n",
              "    <tr>\n",
              "      <th>170</th>\n",
              "      <td>2.001480</td>\n",
              "      <td>284.3</td>\n",
              "      <td>10.6</td>\n",
              "      <td>15.0</td>\n",
              "      <td>17.737502</td>\n",
              "    </tr>\n",
              "    <tr>\n",
              "      <th>47</th>\n",
              "      <td>3.602777</td>\n",
              "      <td>89.7</td>\n",
              "      <td>9.9</td>\n",
              "      <td>10.6</td>\n",
              "      <td>9.011700</td>\n",
              "    </tr>\n",
              "    <tr>\n",
              "      <th>175</th>\n",
              "      <td>2.646175</td>\n",
              "      <td>222.4</td>\n",
              "      <td>3.4</td>\n",
              "      <td>11.5</td>\n",
              "      <td>13.608416</td>\n",
              "    </tr>\n",
              "  </tbody>\n",
              "</table>\n",
              "</div>"
            ],
            "text/plain": [
              "     newspaper     TV  radio  Actual sales  Predicted sales\n",
              "60    2.332144  210.7   29.5          18.4        18.150269\n",
              "6     4.330733    8.7   48.9           7.2        12.961369\n",
              "21    3.996364  218.4   27.7          18.0        18.058153\n",
              "199   4.207673  283.6   42.0          25.5        23.660251\n",
              "53    3.703768  216.4   41.7          22.6        20.687510\n",
              "20    3.000720  147.3   23.9          14.6        14.263259\n",
              "163   3.280911  188.4   18.1          14.9        14.927745\n",
              "56    4.110874  198.9   49.4          23.7        21.388474\n",
              "70    3.339322  216.8   43.9          22.3        21.147529\n",
              "3     4.252772   17.2   45.9           9.3        12.757885\n",
              "99    3.955082  289.7   42.3          25.4        23.997356\n",
              "11    3.226844   66.1    5.8           8.6         7.206327\n",
              "76    4.504244   16.9   43.7           8.7        12.307771\n",
              "143   3.660994  220.5   33.2          20.1        19.228133\n",
              "125   4.320151  229.5   32.3          19.7        19.415816\n",
              "64    2.240710  102.7   29.6          14.0        13.449858\n",
              "110   1.871802  255.4   26.9          19.8        19.626196\n",
              "79    2.341806    5.4   29.9           5.3         9.246675\n",
              "112   3.186353  241.7   38.0          21.8        21.105287\n",
              "186   3.025291  205.0   45.1          22.6        20.878384\n",
              "155   2.351375  187.8   21.1          15.6        15.526113\n",
              "131   2.272126    0.7   39.6           1.6        10.916956\n",
              "62    4.019980  261.3   42.7          24.2        22.829107\n",
              "88    4.162003  110.7   40.6          16.0        15.829156\n",
              "103   3.109061  280.2   10.1          14.8        17.407422\n",
              "122   3.939638   18.8   21.7           7.0         8.171704\n",
              "137   2.332144   25.6   39.0           9.5        11.887384\n",
              "2     3.830813   44.5   39.3          10.4        12.698666\n",
              "48    2.970414  239.9   41.5          23.2        21.712750\n",
              "173   2.890372   19.6   20.1           7.6         7.949202\n",
              "160   3.572346  131.7   18.4          12.9        12.491190\n",
              "40    3.496508  228.0   37.7          21.5        20.432921\n",
              "77    3.077312   27.5    1.6           6.9         4.714431\n",
              "92    3.526361   28.6    1.5           7.3         4.721262\n",
              "36    2.251292  290.7    4.1          12.8        16.750485\n",
              "179   3.206803  276.7    2.3          11.8        15.743849\n",
              "128   2.322388   80.2    0.0           8.8         6.747756\n",
              "170   2.001480  284.3   10.6          15.0        17.737502\n",
              "47    3.602777   89.7    9.9          10.6         9.011700\n",
              "175   2.646175  222.4    3.4          11.5        13.608416"
            ]
          },
          "metadata": {},
          "execution_count": 43
        }
      ]
    },
    {
      "cell_type": "code",
      "metadata": {
        "colab": {
          "base_uri": "https://localhost:8080/"
        },
        "id": "8gj5MXPOf4d7",
        "outputId": "f9594a44-b175-4222-9142-c14beac5550c"
      },
      "source": [
        "from sklearn.metrics import r2_score,mean_squared_error\n",
        "import numpy as np\n",
        "\n",
        "r2=r2_score(Y_test,Y_pred)\n",
        "print(\"R-squared:\",r2)\n",
        "\n",
        "rmse=np.sqrt(mean_squared_error(Y_test,Y_pred))\n",
        "print(\"RMSE:\",rmse)\n",
        "\n",
        "adjusted_r_squared = 1 - (1-r2)*(len(Y)-1)/(len(Y)-X.shape[1]-1)\n",
        "print(\"Adj R-square:\",adjusted_r_squared)"
      ],
      "execution_count": null,
      "outputs": [
        {
          "output_type": "stream",
          "name": "stdout",
          "text": [
            "R-squared: 0.8348010719035321\n",
            "RMSE: 2.5929769110930594\n",
            "Adj R-square: 0.8322725168816474\n"
          ]
        }
      ]
    },
    {
      "cell_type": "code",
      "metadata": {
        "colab": {
          "base_uri": "https://localhost:8080/"
        },
        "id": "51UCPbeXnj-U",
        "outputId": "dc686adc-5dae-47e0-a73f-24447e52a396"
      },
      "source": [
        "print(Y_test.min())\n",
        "print(Y_test.max())"
      ],
      "execution_count": null,
      "outputs": [
        {
          "output_type": "stream",
          "name": "stdout",
          "text": [
            "sales    1.6\n",
            "dtype: float64\n",
            "sales    25.5\n",
            "dtype: float64\n"
          ]
        }
      ]
    },
    {
      "cell_type": "code",
      "metadata": {
        "colab": {
          "base_uri": "https://localhost:8080/",
          "height": 306
        },
        "id": "vnD-mKHoioqQ",
        "outputId": "fd09a4cd-3213-4b53-eb0b-3902bbc7f061"
      },
      "source": [
        "new_df[\"Deviation\"]=new_df[\"Actual sales\"]-new_df[\"Predicted sales\"]\n",
        "new_df.to_excel(\"Sales Prediction.xlsx\",header=True,index=True)\n",
        "new_df.head()"
      ],
      "execution_count": null,
      "outputs": [
        {
          "output_type": "stream",
          "name": "stderr",
          "text": [
            "/usr/local/lib/python3.7/dist-packages/ipykernel_launcher.py:1: SettingWithCopyWarning: \n",
            "A value is trying to be set on a copy of a slice from a DataFrame.\n",
            "Try using .loc[row_indexer,col_indexer] = value instead\n",
            "\n",
            "See the caveats in the documentation: https://pandas.pydata.org/pandas-docs/stable/user_guide/indexing.html#returning-a-view-versus-a-copy\n",
            "  \"\"\"Entry point for launching an IPython kernel.\n"
          ]
        },
        {
          "output_type": "execute_result",
          "data": {
            "text/html": [
              "<div>\n",
              "<style scoped>\n",
              "    .dataframe tbody tr th:only-of-type {\n",
              "        vertical-align: middle;\n",
              "    }\n",
              "\n",
              "    .dataframe tbody tr th {\n",
              "        vertical-align: top;\n",
              "    }\n",
              "\n",
              "    .dataframe thead th {\n",
              "        text-align: right;\n",
              "    }\n",
              "</style>\n",
              "<table border=\"1\" class=\"dataframe\">\n",
              "  <thead>\n",
              "    <tr style=\"text-align: right;\">\n",
              "      <th></th>\n",
              "      <th>newspaper</th>\n",
              "      <th>TV</th>\n",
              "      <th>radio</th>\n",
              "      <th>Actual sales</th>\n",
              "      <th>Predicted sales</th>\n",
              "      <th>Deviation</th>\n",
              "    </tr>\n",
              "  </thead>\n",
              "  <tbody>\n",
              "    <tr>\n",
              "      <th>60</th>\n",
              "      <td>2.332144</td>\n",
              "      <td>210.7</td>\n",
              "      <td>29.5</td>\n",
              "      <td>18.4</td>\n",
              "      <td>18.150269</td>\n",
              "      <td>0.249731</td>\n",
              "    </tr>\n",
              "    <tr>\n",
              "      <th>6</th>\n",
              "      <td>4.330733</td>\n",
              "      <td>8.7</td>\n",
              "      <td>48.9</td>\n",
              "      <td>7.2</td>\n",
              "      <td>12.961369</td>\n",
              "      <td>-5.761369</td>\n",
              "    </tr>\n",
              "    <tr>\n",
              "      <th>21</th>\n",
              "      <td>3.996364</td>\n",
              "      <td>218.4</td>\n",
              "      <td>27.7</td>\n",
              "      <td>18.0</td>\n",
              "      <td>18.058153</td>\n",
              "      <td>-0.058153</td>\n",
              "    </tr>\n",
              "    <tr>\n",
              "      <th>199</th>\n",
              "      <td>4.207673</td>\n",
              "      <td>283.6</td>\n",
              "      <td>42.0</td>\n",
              "      <td>25.5</td>\n",
              "      <td>23.660251</td>\n",
              "      <td>1.839749</td>\n",
              "    </tr>\n",
              "    <tr>\n",
              "      <th>53</th>\n",
              "      <td>3.703768</td>\n",
              "      <td>216.4</td>\n",
              "      <td>41.7</td>\n",
              "      <td>22.6</td>\n",
              "      <td>20.687510</td>\n",
              "      <td>1.912490</td>\n",
              "    </tr>\n",
              "  </tbody>\n",
              "</table>\n",
              "</div>"
            ],
            "text/plain": [
              "     newspaper     TV  radio  Actual sales  Predicted sales  Deviation\n",
              "60    2.332144  210.7   29.5          18.4        18.150269   0.249731\n",
              "6     4.330733    8.7   48.9           7.2        12.961369  -5.761369\n",
              "21    3.996364  218.4   27.7          18.0        18.058153  -0.058153\n",
              "199   4.207673  283.6   42.0          25.5        23.660251   1.839749\n",
              "53    3.703768  216.4   41.7          22.6        20.687510   1.912490"
            ]
          },
          "metadata": {},
          "execution_count": 46
        }
      ]
    },
    {
      "cell_type": "code",
      "metadata": {
        "id": "5E-2lXHhJLri"
      },
      "source": [
        "from sklearn.model_selection import train_test_split\n",
        "\n",
        "#Split the data into test and train\n",
        "X_train, X_test, Y_train, Y_test = train_test_split(X, Y, test_size=0.2,\n",
        "random_state=10)"
      ],
      "execution_count": null,
      "outputs": []
    },
    {
      "cell_type": "code",
      "metadata": {
        "colab": {
          "base_uri": "https://localhost:8080/"
        },
        "id": "_joOxkZDJL2U",
        "outputId": "92ec1184-2921-4447-de64-90c15df864bb"
      },
      "source": [
        "Y_pred=lm.predict(X_test)\n",
        "\n",
        "from sklearn.metrics import r2_score,mean_squared_error\n",
        "import numpy as np\n",
        "\n",
        "r2=r2_score(Y_test,Y_pred)\n",
        "print(r2)\n",
        "\n",
        "rmse=np.sqrt(mean_squared_error(Y_test,Y_pred))\n",
        "print(rmse)\n",
        "\n",
        "adjusted_r_squared = 1 - (1-r2)*(len(Y)-1)/(len(Y)-X.shape[1]-1)\n",
        "print(adjusted_r_squared)\n",
        "\n",
        "\n",
        "\"\"\"\n",
        "Previous values:\n",
        "0.834801071903532\n",
        "2.59297691109306\n",
        "0.8322725168816474\n",
        "\"\"\"\n",
        "\n",
        "\n",
        "\n",
        "from sklearn.linear_model import Lasso\n",
        "lm = Lasso()\n",
        "lm.fit(X_train,Y_train)\n",
        "\n",
        "# print intercept and coefficients\n",
        "print (lm.intercept_)\n",
        "print (lm.coef_)"
      ],
      "execution_count": null,
      "outputs": [
        {
          "output_type": "stream",
          "name": "stdout",
          "text": [
            "0.8348010719035321\n",
            "2.5929769110930594\n",
            "0.8322725168816474\n",
            "[3.33679406]\n",
            "[-0.          0.04362374  0.18766033]\n"
          ]
        }
      ]
    },
    {
      "cell_type": "code",
      "metadata": {
        "colab": {
          "base_uri": "https://localhost:8080/",
          "height": 86
        },
        "id": "JqqojP__JTv6",
        "outputId": "cacde695-25f6-4c8f-b40c-bbaef18c48a4"
      },
      "source": [
        "Y_pred=lm.predict(X_test)\n",
        "\n",
        "from sklearn.metrics import r2_score,mean_squared_error\n",
        "import numpy as np\n",
        "\n",
        "r2=r2_score(Y_test,Y_pred)\n",
        "print(r2)\n",
        "\n",
        "rmse=np.sqrt(mean_squared_error(Y_test,Y_pred))\n",
        "print(rmse)\n",
        "\n",
        "adjusted_r_squared = 1 - (1-r2)*(len(Y)-1)/(len(Y)-X.shape[1]-1)\n",
        "print(adjusted_r_squared)\n",
        "\n",
        "\n",
        "\"\"\"\n",
        "Previous values:\n",
        "0.834801071903532\n",
        "2.59297691109306\n",
        "0.8322725168816474\n",
        "\"\"\"\n",
        "\n"
      ],
      "execution_count": null,
      "outputs": [
        {
          "output_type": "stream",
          "name": "stdout",
          "text": [
            "0.8360506658527163\n",
            "2.583151427109424\n",
            "0.8335412372688292\n"
          ]
        },
        {
          "output_type": "execute_result",
          "data": {
            "application/vnd.google.colaboratory.intrinsic+json": {
              "type": "string"
            },
            "text/plain": [
              "'\\nPrevious values:\\n0.834801071903532\\n2.59297691109306\\n0.8322725168816474\\n'"
            ]
          },
          "metadata": {},
          "execution_count": 49
        }
      ]
    },
    {
      "cell_type": "code",
      "metadata": {
        "id": "BEI5ahkvJZ-z"
      },
      "source": [
        "#stat model linear regression\n",
        "\n",
        "#OLS-->OLS(Y_train, X_train)\n",
        "#ols-->ols(Y~X1+X2+X3)\n",
        "\n"
      ],
      "execution_count": null,
      "outputs": []
    },
    {
      "cell_type": "code",
      "metadata": {
        "colab": {
          "base_uri": "https://localhost:8080/"
        },
        "id": "NFpiq8GyLIZl",
        "outputId": "f1ae8291-c110-4136-9294-62b2c3f4a20a"
      },
      "source": [
        "new_df = pd.DataFrame()\n",
        "new_df = X_train\n",
        "new_df[\"sales\"] = Y_train\n",
        "new_df.shape"
      ],
      "execution_count": null,
      "outputs": [
        {
          "output_type": "stream",
          "name": "stderr",
          "text": [
            "/usr/local/lib/python3.7/dist-packages/ipykernel_launcher.py:3: SettingWithCopyWarning: \n",
            "A value is trying to be set on a copy of a slice from a DataFrame.\n",
            "Try using .loc[row_indexer,col_indexer] = value instead\n",
            "\n",
            "See the caveats in the documentation: https://pandas.pydata.org/pandas-docs/stable/user_guide/indexing.html#returning-a-view-versus-a-copy\n",
            "  This is separate from the ipykernel package so we can avoid doing imports until\n"
          ]
        },
        {
          "output_type": "execute_result",
          "data": {
            "text/plain": [
              "(160, 4)"
            ]
          },
          "metadata": {},
          "execution_count": 51
        }
      ]
    },
    {
      "cell_type": "code",
      "metadata": {
        "colab": {
          "base_uri": "https://localhost:8080/",
          "height": 579
        },
        "id": "5D7lWKjbJrm5",
        "outputId": "c0750f15-6f5f-4e57-a06a-0afc63d2ce06"
      },
      "source": [
        "import statsmodels.formula.api as sm\n",
        "\n",
        "# create a fitted model with all three features\n",
        "lm_model = sm.ols(formula='sales ~ TV + radio + newspaper', data=new_df).fit()\n",
        "\n",
        "# print the coefficients\n",
        "print(lm_model.params)\n",
        "print(lm_model.summary())\n",
        "\n",
        "\"\"\"\n",
        "3.3532913858151527\n",
        "[ 0.0437425 0.19303708 -0.04895137]\n",
        "\n",
        "\"\"\"\n"
      ],
      "execution_count": null,
      "outputs": [
        {
          "output_type": "stream",
          "name": "stdout",
          "text": [
            "Intercept    3.353291\n",
            "TV           0.043743\n",
            "radio        0.193037\n",
            "newspaper   -0.048951\n",
            "dtype: float64\n",
            "                            OLS Regression Results                            \n",
            "==============================================================================\n",
            "Dep. Variable:                  sales   R-squared:                       0.921\n",
            "Model:                            OLS   Adj. R-squared:                  0.919\n",
            "Method:                 Least Squares   F-statistic:                     605.4\n",
            "Date:                Sun, 24 Oct 2021   Prob (F-statistic):           1.10e-85\n",
            "Time:                        10:13:55   Log-Likelihood:                -276.63\n",
            "No. Observations:                 160   AIC:                             561.3\n",
            "Df Residuals:                     156   BIC:                             573.6\n",
            "Df Model:                           3                                         \n",
            "Covariance Type:            nonrobust                                         \n",
            "==============================================================================\n",
            "                 coef    std err          t      P>|t|      [0.025      0.975]\n",
            "------------------------------------------------------------------------------\n",
            "Intercept      3.3533      0.442      7.578      0.000       2.479       4.227\n",
            "TV             0.0437      0.001     32.516      0.000       0.041       0.046\n",
            "radio          0.1930      0.008     24.946      0.000       0.178       0.208\n",
            "newspaper     -0.0490      0.125     -0.391      0.697      -0.297       0.199\n",
            "==============================================================================\n",
            "Omnibus:                       12.594   Durbin-Watson:                   2.106\n",
            "Prob(Omnibus):                  0.002   Jarque-Bera (JB):               13.403\n",
            "Skew:                          -0.699   Prob(JB):                      0.00123\n",
            "Kurtosis:                       3.237   Cond. No.                         697.\n",
            "==============================================================================\n",
            "\n",
            "Warnings:\n",
            "[1] Standard Errors assume that the covariance matrix of the errors is correctly specified.\n"
          ]
        },
        {
          "output_type": "execute_result",
          "data": {
            "application/vnd.google.colaboratory.intrinsic+json": {
              "type": "string"
            },
            "text/plain": [
              "'\\n3.3532913858151527\\n[ 0.0437425 0.19303708 -0.04895137]\\n\\n'"
            ]
          },
          "metadata": {},
          "execution_count": 52
        }
      ]
    },
    {
      "cell_type": "code",
      "metadata": {
        "colab": {
          "base_uri": "https://localhost:8080/"
        },
        "id": "E8iWQUYfUdck",
        "outputId": "427763e8-ee22-4cb0-db49-7928ce81e1cd"
      },
      "source": [
        "import statsmodels.formula.api as sm\n",
        "\n",
        "# create a fitted model with all three features\n",
        "lm_model = sm.ols(formula='sales ~ TV + radio', data=new_df).fit()\n",
        "\n",
        "# print the coefficients\n",
        "print(lm_model.params)\n",
        "print(lm_model.summary())\n"
      ],
      "execution_count": null,
      "outputs": [
        {
          "output_type": "stream",
          "text": [
            "Intercept    3.217026\n",
            "TV           0.043721\n",
            "radio        0.192425\n",
            "dtype: float64\n",
            "                            OLS Regression Results                            \n",
            "==============================================================================\n",
            "Dep. Variable:                  sales   R-squared:                       0.921\n",
            "Model:                            OLS   Adj. R-squared:                  0.920\n",
            "Method:                 Least Squares   F-statistic:                     912.9\n",
            "Date:                Sun, 09 May 2021   Prob (F-statistic):           3.47e-87\n",
            "Time:                        04:11:12   Log-Likelihood:                -276.70\n",
            "No. Observations:                 160   AIC:                             559.4\n",
            "Df Residuals:                     157   BIC:                             568.6\n",
            "Df Model:                           2                                         \n",
            "Covariance Type:            nonrobust                                         \n",
            "==============================================================================\n",
            "                 coef    std err          t      P>|t|      [0.025      0.975]\n",
            "------------------------------------------------------------------------------\n",
            "Intercept      3.2170      0.271     11.855      0.000       2.681       3.753\n",
            "TV             0.0437      0.001     32.616      0.000       0.041       0.046\n",
            "radio          0.1924      0.008     25.462      0.000       0.177       0.207\n",
            "==============================================================================\n",
            "Omnibus:                       12.555   Durbin-Watson:                   2.100\n",
            "Prob(Omnibus):                  0.002   Jarque-Bera (JB):               13.347\n",
            "Skew:                          -0.697   Prob(JB):                      0.00126\n",
            "Kurtosis:                       3.241   Cond. No.                         418.\n",
            "==============================================================================\n",
            "\n",
            "Warnings:\n",
            "[1] Standard Errors assume that the covariance matrix of the errors is correctly specified.\n"
          ],
          "name": "stdout"
        }
      ]
    },
    {
      "cell_type": "code",
      "metadata": {
        "colab": {
          "base_uri": "https://localhost:8080/"
        },
        "id": "5dawJSKCKHir",
        "outputId": "22ebcd54-d4d6-49ee-d0e6-a74707654d13"
      },
      "source": [
        "Y_pred=lm.predict(X_test)\n",
        "\n",
        "from sklearn.metrics import r2_score,mean_squared_error\n",
        "import numpy as np\n",
        "\n",
        "r2=r2_score(Y_test,Y_pred)\n",
        "print(r2)\n",
        "\n",
        "rmse=np.sqrt(mean_squared_error(Y_test,Y_pred))\n",
        "print(rmse)\n",
        "\n",
        "adjusted_r_squared = 1 - (1-r2)*(len(Y)-1)/(len(Y)-X.shape[1]-1)\n",
        "print(adjusted_r_squared)"
      ],
      "execution_count": null,
      "outputs": [
        {
          "output_type": "stream",
          "text": [
            "0.8360506658527163\n",
            "2.583151427109424\n",
            "0.8335412372688292\n"
          ],
          "name": "stdout"
        }
      ]
    },
    {
      "cell_type": "code",
      "metadata": {
        "colab": {
          "base_uri": "https://localhost:8080/",
          "height": 584
        },
        "id": "iDIxgSsbWH8A",
        "outputId": "2d688573-c9c2-4054-ce75-3bda4dc2e462"
      },
      "source": [
        "#Assumption: Errors should be random\n",
        "#checked using Residual v/s Fitted plot\n",
        "\n",
        "import matplotlib.pyplot as plt\n",
        "plot_lm_1 = plt.figure(1)\n",
        "plot_lm_1.set_figheight(8)\n",
        "plot_lm_1.set_figwidth(12)\n",
        "\n",
        "# fitted values (need a constant term for intercept)\n",
        "model_fitted_y = lm_model.fittedvalues\n",
        "\n",
        "plot_lm_1.axes[0] = sns.residplot(model_fitted_y, 'sales', data=new_df, lowess=True)\n",
        "\n",
        "plot_lm_1.axes[0].set_title('Residuals vs Fitted')\n",
        "plot_lm_1.axes[0].set_xlabel('Fitted values')\n",
        "plot_lm_1.axes[0].set_ylabel('Residuals')"
      ],
      "execution_count": null,
      "outputs": [
        {
          "output_type": "stream",
          "text": [
            "/usr/local/lib/python3.7/dist-packages/seaborn/_decorators.py:43: FutureWarning: Pass the following variables as keyword args: x, y. From version 0.12, the only valid positional argument will be `data`, and passing other arguments without an explicit keyword will result in an error or misinterpretation.\n",
            "  FutureWarning\n"
          ],
          "name": "stderr"
        },
        {
          "output_type": "execute_result",
          "data": {
            "text/plain": [
              "Text(0, 0.5, 'Residuals')"
            ]
          },
          "metadata": {
            "tags": []
          },
          "execution_count": 63
        },
        {
          "output_type": "display_data",
          "data": {
            "image/png": "[encoded data removed]",
            "text/plain": [
              "<Figure size 864x576 with 1 Axes>"
            ]
          },
          "metadata": {
            "tags": [],
            "needs_background": "light"
          }
        }
      ]
    },
    {
      "cell_type": "code",
      "metadata": {
        "colab": {
          "base_uri": "https://localhost:8080/",
          "height": 295
        },
        "id": "vnFND6MNe318",
        "outputId": "f0494618-370b-4c7d-dbb6-8f04945d4ba8"
      },
      "source": [
        "#Assumption: Errors should follow a approximate normal distribution\n",
        "#checked using Normal QQ plot\n",
        "\n",
        "res = lm_model.resid\n",
        "import statsmodels.api as stm\n",
        "import scipy.stats as stats\n",
        "fig = stm.qqplot(res, fit=True, line='45')\n",
        "plt.title('Normal Q-Q')\n",
        "plt.xlabel('Theoretical Quantiles')\n",
        "plt.ylabel('Standardized Residuals')\n",
        "plt.show()"
      ],
      "execution_count": null,
      "outputs": [
        {
          "output_type": "display_data",
          "data": {
            "image/png": "[encoded data removed]",
            "text/plain": [
              "<Figure size 432x288 with 1 Axes>"
            ]
          },
          "metadata": {
            "tags": [],
            "needs_background": "light"
          }
        }
      ]
    },
    {
      "cell_type": "code",
      "metadata": {
        "colab": {
          "base_uri": "https://localhost:8080/",
          "height": 584
        },
        "id": "ltbEN73Be-pz",
        "outputId": "ba449318-7f37-4272-f8a6-a2a0297db519"
      },
      "source": [
        "#Assumption: Errors should follow a constant variance-->Homoskedasticity\n",
        "#checked using Scale location plot\n",
        "\n",
        "# normalized residuals\n",
        "model_norm_residuals = lm_model.get_influence().resid_studentized_internal\n",
        "# absolute squared normalized residuals\n",
        "model_norm_residuals_abs_sqrt = np.sqrt(np.abs(model_norm_residuals))\n",
        "\n",
        "plot_lm_3 = plt.figure(3)\n",
        "plot_lm_3.set_figheight(8)\n",
        "plot_lm_3.set_figwidth(12)\n",
        "plt.scatter(model_fitted_y, model_norm_residuals_abs_sqrt, alpha=0.5)\n",
        "sns.regplot(model_fitted_y, model_norm_residuals_abs_sqrt, lowess=True)\n",
        "\n",
        "\n",
        "plot_lm_3.axes[0].set_title('Scale-Location')\n",
        "plot_lm_3.axes[0].set_xlabel('Fitted values')\n",
        "plot_lm_3.axes[0].set_ylabel('$\\sqrt{|Standardized Residuals|}$')"
      ],
      "execution_count": null,
      "outputs": [
        {
          "output_type": "stream",
          "text": [
            "/usr/local/lib/python3.7/dist-packages/seaborn/_decorators.py:43: FutureWarning: Pass the following variables as keyword args: x, y. From version 0.12, the only valid positional argument will be `data`, and passing other arguments without an explicit keyword will result in an error or misinterpretation.\n",
            "  FutureWarning\n"
          ],
          "name": "stderr"
        },
        {
          "output_type": "execute_result",
          "data": {
            "text/plain": [
              "Text(0, 0.5, '$\\\\sqrt{|Standardized Residuals|}$')"
            ]
          },
          "metadata": {
            "tags": []
          },
          "execution_count": 65
        },
        {
          "output_type": "display_data",
          "data": {
            "image/png": "[encoded data removed]",
            "text/plain": [
              "<Figure size 864x576 with 1 Axes>"
            ]
          },
          "metadata": {
            "tags": [],
            "needs_background": "light"
          }
        }
      ]
    },
    {
      "cell_type": "code",
      "metadata": {
        "id": "BK9RrYkxzvmF"
      },
      "source": [],
      "execution_count": null,
      "outputs": []
    }
  ]
}